{
 "cells": [
  {
   "cell_type": "code",
   "execution_count": 1,
   "id": "65ad77ed-afd4-414e-8af6-938dcd9a5b05",
   "metadata": {},
   "outputs": [
    {
     "name": "stdout",
     "output_type": "stream",
     "text": [
      "    Name  Age  GPA\n",
      "0    Ram   25  3.8\n",
      "1  Shyam   30  3.9\n",
      "2   Hari   35  3.5\n",
      "3   Gita   40  3.7\n"
     ]
    }
   ],
   "source": [
    "import pandas as pd\n",
    "import numpy as np\n",
    "\n",
    "names = np.array([\"Ram\", \"Shyam\", \"Hari\", \"Gita\"])\n",
    "ages = np.array([25, 30, 35, 40])\n",
    "gpas = np.array([3.8, 3.9, 3.5, 3.7])\n",
    "\n",
    "data = {\n",
    "    \"Name\": names,\n",
    "    \"Age\": ages,\n",
    "    \"GPA\": gpas\n",
    "}\n",
    "\n",
    "df = pd.DataFrame(data)\n",
    "\n",
    "print(df)\n"
   ]
  }
 ],
 "metadata": {
  "kernelspec": {
   "display_name": "Python 3 (ipykernel)",
   "language": "python",
   "name": "python3"
  },
  "language_info": {
   "codemirror_mode": {
    "name": "ipython",
    "version": 3
   },
   "file_extension": ".py",
   "mimetype": "text/x-python",
   "name": "python",
   "nbconvert_exporter": "python",
   "pygments_lexer": "ipython3",
   "version": "3.12.7"
  }
 },
 "nbformat": 4,
 "nbformat_minor": 5
}
