{
 "cells": [
  {
   "cell_type": "code",
   "execution_count": 13,
   "id": "ba7542bc-5646-4746-bf3c-ed8192284499",
   "metadata": {},
   "outputs": [],
   "source": [
    "import numpy as np\n",
    "\n",
    "a = np.array([2,3,4,5,6,7])\n",
    "b = np.array([[7,8,9],[2,3,1]])"
   ]
  },
  {
   "cell_type": "code",
   "execution_count": null,
   "id": "1df98a87-722f-4c76-8c30-3e94b634f887",
   "metadata": {},
   "outputs": [],
   "source": [
    "c = a.reshape(1,-1)\n",
    "d = b.reshape(1,-1)"
   ]
  },
  {
   "cell_type": "code",
   "execution_count": 47,
   "id": "3ced07b5-d753-4a11-bc9d-ff4987160169",
   "metadata": {},
   "outputs": [
    {
     "name": "stdout",
     "output_type": "stream",
     "text": [
      "[[ 9 11 13  7  9  8]]\n"
     ]
    }
   ],
   "source": [
    "result = c + d\n",
    "print(result)"
   ]
  },
  {
   "cell_type": "code",
   "execution_count": null,
   "id": "d631d697-b337-4bde-9c0a-5934e602c3a1",
   "metadata": {},
   "outputs": [
    {
     "name": "stdout",
     "output_type": "stream",
     "text": [
      "The shape of result is (1, 6)\n"
     ]
    }
   ],
   "source": [
    "print(\"The shape of result is\", result.shape)"
   ]
  },
  {
   "cell_type": "code",
   "execution_count": null,
   "id": "05c5ca9c",
   "metadata": {},
   "outputs": [],
   "source": []
  }
 ],
 "metadata": {
  "kernelspec": {
   "display_name": "Python 3",
   "language": "python",
   "name": "python3"
  },
  "language_info": {
   "codemirror_mode": {
    "name": "ipython",
    "version": 3
   },
   "file_extension": ".py",
   "mimetype": "text/x-python",
   "name": "python",
   "nbconvert_exporter": "python",
   "pygments_lexer": "ipython3",
   "version": "3.11.9"
  }
 },
 "nbformat": 4,
 "nbformat_minor": 5
}
